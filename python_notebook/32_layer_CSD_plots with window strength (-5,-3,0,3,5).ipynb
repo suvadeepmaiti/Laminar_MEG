{
 "cells": [
  {
   "cell_type": "code",
   "execution_count": 94,
   "id": "87c058b9",
   "metadata": {},
   "outputs": [],
   "source": [
    "import numpy as np\n",
    "import matplotlib.pyplot as plt\n",
    "from scipy.ndimage import gaussian_filter1d\n",
    "import os\n",
    "from PIL import Image\n",
    "import io  # Add this import for the 'io' module\n",
    "from PIL import Image\n",
    "import matplotlib as mpl\n",
    "from matplotlib.colors import TwoSlopeNorm"
   ]
  },
  {
   "cell_type": "code",
   "execution_count": null,
   "id": "39704e5d",
   "metadata": {},
   "outputs": [],
   "source": [
    "import numpy as np\n",
    "\n",
    "def save_array(arr, filename):\n",
    "    with open(filename, 'a') as f:\n",
    "        f.write(','.join(map(str, arr)) + '\\n')\n",
    "\n",
    "# Initial array with 32 zeros\n",
    "array_32_zeros = np.zeros(32, dtype=int)\n",
    "\n",
    "# Smaller array containing [-5, -3, 0, 3, 5]\n",
    "smaller_array = np.array([-5, -3, 0, 3, 5])\n",
    "\n",
    "# Iterate through the larger array and shift the smaller array with stride one\n",
    "with open('results.txt', 'w') as f:\n",
    "    for i in range(32 - len(smaller_array) + 1):\n",
    "        array_32_zeros[:] = 0  # Reset all elements to 0\n",
    "        array_32_zeros[i:i+len(smaller_array)] = smaller_array\n",
    "        save_array(list(array_32_zeros), 'list_array.txt')"
   ]
  },
  {
   "cell_type": "code",
   "execution_count": 105,
   "id": "720dc0e6",
   "metadata": {},
   "outputs": [],
   "source": [
    "def gaussian_with_noise(x, amplitude, center=0, stddev=1, noise_stddev=0.5):\n",
    "    noise = np.random.normal(0, noise_stddev, len(x))\n",
    "    return amplitude * np.exp(-((x - center) / stddev) ** 2) + noise\n",
    "\n",
    "def plot_gaussian_curves_with_noise(amplitudes, center=0, stddev=1, noise_stddev=0.5):\n",
    "    num_layers = len(amplitudes)\n",
    "\n",
    "    # Generate x values\n",
    "    x = np.linspace(-10, 10, 1000)\n",
    "\n",
    "    # Initialize matrix to store generated data\n",
    "    data_matrix = np.zeros((num_layers, len(x)))\n",
    "\n",
    "    # Generate and plot Gaussian curves with noise\n",
    "    for i, amplitude in enumerate(amplitudes):\n",
    "        y = gaussian_with_noise(x, amplitude, center, stddev, noise_stddev)\n",
    "        data_matrix[i] = y\n",
    "#         plt.plot(x, y, label=f'Layer {i+1}')\n",
    "\n",
    "#     # Set plot labels and title\n",
    "#     plt.xlabel('X')\n",
    "#     plt.ylabel('Y')\n",
    "#     plt.title('Gaussian Curves with Noise')\n",
    "#     plt.legend()\n",
    "\n",
    "#     # Display the plot\n",
    "# #     plt.show()\n",
    "    \n",
    "\n",
    "    # Plot CSD heatmap\n",
    "    layer_names = [f'Layer {num_layers - i}' for i in range(num_layers)]\n",
    "    csd = np.gradient(data_matrix, axis=0, edge_order=1)\n",
    "    csd = np.gradient(csd, axis=0, edge_order=1)\n",
    "    \n",
    "        # Define the parameters for TwoSlopeNorm\n",
    "    vmin = np.min(csd)\n",
    "    vmax = np.max(csd)\n",
    "    mid = 0\n",
    "    divnorm = TwoSlopeNorm(vmin=vmin, vcenter=mid, vmax=vmax)\n",
    "    \n",
    "    \n",
    "    time = np.arange(data_matrix.shape[1])\n",
    "    depth = np.arange(data_matrix.shape[0])\n",
    "    time_grid, depth_grid = np.meshgrid(time, depth)\n",
    "\n",
    "    plt.figure(figsize=(20, 10))\n",
    "    plt.imshow(csd, cmap=\"RdBu_r\", aspect='auto',norm=divnorm, extent=[time[0], time[-1], depth[0], depth[-1]])\n",
    "    plt.colorbar(label='Current Source Density')\n",
    "    plt.xlabel('Time')\n",
    "    plt.ylabel('Layer')\n",
    "    plt.yticks(depth, layer_names)\n",
    "    plt.title('CSD of generated signal')\n",
    "#     plt.show()\n",
    "\n",
    "\n",
    "    # Convert the plot to an image object\n",
    "    buffer = io.BytesIO()\n",
    "    plt.savefig(buffer, format='png')\n",
    "    buffer.seek(0)\n",
    "    image = Image.open(buffer)\n",
    "    \n",
    "    # Close the plot to release memory\n",
    "    plt.close()\n",
    "    \n",
    "    # Return the image object\n",
    "    return image"
   ]
  },
  {
   "cell_type": "code",
   "execution_count": 106,
   "id": "1ad591b8",
   "metadata": {},
   "outputs": [],
   "source": [
    "# amplitude = [-5,-3,0,3,5,0,0,0,0,0,0,0,0,0,0,0,0,0,0,0,0,0,0,0,0,0,0,0,0,0,0,0]\n",
    "# plot_gaussian_curves_with_noise(amplitude)"
   ]
  },
  {
   "cell_type": "code",
   "execution_count": 107,
   "id": "18312de3",
   "metadata": {},
   "outputs": [],
   "source": [
    "def read_arrays_from_file(filename):\n",
    "    with open(filename, 'r') as file:\n",
    "        data = file.readlines()\n",
    "        arrays = [eval(array_str.strip()) for array_str in data]\n",
    "    return arrays"
   ]
  },
  {
   "cell_type": "code",
   "execution_count": 108,
   "id": "e5f1a9fb",
   "metadata": {},
   "outputs": [
    {
     "data": {
      "text/plain": [
       "28"
      ]
     },
     "execution_count": 108,
     "metadata": {},
     "output_type": "execute_result"
    }
   ],
   "source": [
    "# Read the arrays from the text file\n",
    "arrays = read_arrays_from_file(\"/home/smaiti/Danc_lab/Final_Experiments/python_notebook/32_layer_data/list_array.txt\")\n",
    "len(arrays)"
   ]
  },
  {
   "cell_type": "code",
   "execution_count": 109,
   "id": "911e19dd",
   "metadata": {},
   "outputs": [],
   "source": [
    "def save_image(array, index, output_folder):\n",
    "    # Generate the image from the array using plot_gaussian_curves_with_noise\n",
    "    image = plot_gaussian_curves_with_noise(array)\n",
    "\n",
    "    # Save the image to the output folder with a specific filename\n",
    "    image_path = os.path.join(output_folder, f\"image_{index}.png\")\n",
    "    image.save(image_path)\n"
   ]
  },
  {
   "cell_type": "code",
   "execution_count": 110,
   "id": "b2915aee",
   "metadata": {},
   "outputs": [],
   "source": [
    "def main():\n",
    "    # Read the arrays from the text file\n",
    "    with open(\"list_array.txt\", 'r') as file:\n",
    "        data = file.readlines()\n",
    "        arrays = [eval(array_str.strip()) for array_str in data]\n",
    "\n",
    "    # Create the output folder if it doesn't exist\n",
    "    output_folder = \"output_images\"\n",
    "    if not os.path.exists(output_folder):\n",
    "        os.makedirs(output_folder)\n",
    "\n",
    "    # Loop through the arrays, generate and save the images\n",
    "    for i, array in enumerate(arrays):\n",
    "        save_image(array, i, output_folder)\n"
   ]
  },
  {
   "cell_type": "code",
   "execution_count": 111,
   "id": "276dbb83",
   "metadata": {},
   "outputs": [],
   "source": [
    "if __name__ == \"__main__\":\n",
    "    main()"
   ]
  },
  {
   "cell_type": "markdown",
   "id": "dde24ce6",
   "metadata": {},
   "source": [
    "## Creating GIF"
   ]
  },
  {
   "cell_type": "code",
   "execution_count": 112,
   "id": "32286d98",
   "metadata": {},
   "outputs": [],
   "source": [
    "# Function to create GIF from images in a folder\n",
    "def create_gif(folder_path, output_gif_path, duration=200):\n",
    "    images = []\n",
    "    \n",
    "    # Load all images from the folder\n",
    "    for i in range(1, 29):  # Assuming you have images named from image_1 to image_28\n",
    "        image_path = os.path.join(folder_path, f\"image_{i}.png\")  # Modify the file extension if needed\n",
    "        if os.path.exists(image_path):\n",
    "            images.append(Image.open(image_path))\n",
    "\n",
    "    # Save as GIF\n",
    "    images[0].save(\n",
    "        output_gif_path,\n",
    "        save_all=True,\n",
    "        append_images=images[1:],\n",
    "        duration=duration,\n",
    "        loop=0,\n",
    "        format=\"GIF\"  # Specify the format explicitly\n",
    "    )\n"
   ]
  },
  {
   "cell_type": "code",
   "execution_count": 113,
   "id": "489fb583",
   "metadata": {},
   "outputs": [],
   "source": [
    "if __name__ == \"__main__\":\n",
    "    # Set the paths accordingly\n",
    "    folder_path = \"/home/smaiti/Danc_lab/Final_Experiments/python_notebook/32_layer_data/output_images/\"\n",
    "    output_gif_path = \"/home/smaiti/Danc_lab/Final_Experiments/python_notebook/32_layer_data/gif_file/32_layer_twoSlopeNorm_gif.gif\"\n",
    "    create_gif(folder_path, output_gif_path)"
   ]
  },
  {
   "cell_type": "code",
   "execution_count": 78,
   "id": "fb6c1f6e",
   "metadata": {},
   "outputs": [
    {
     "data": {
      "text/plain": [
       "'/home/smaiti/Danc_lab/Final_Experiments/python_notebook/32_layer_data'"
      ]
     },
     "execution_count": 78,
     "metadata": {},
     "output_type": "execute_result"
    }
   ],
   "source": [
    "pwd"
   ]
  },
  {
   "cell_type": "code",
   "execution_count": null,
   "id": "a9095022",
   "metadata": {},
   "outputs": [],
   "source": []
  },
  {
   "cell_type": "code",
   "execution_count": null,
   "id": "4de10a3b",
   "metadata": {},
   "outputs": [],
   "source": []
  },
  {
   "cell_type": "code",
   "execution_count": null,
   "id": "bd01a7c5",
   "metadata": {},
   "outputs": [],
   "source": []
  },
  {
   "cell_type": "code",
   "execution_count": null,
   "id": "070ebbe6",
   "metadata": {},
   "outputs": [],
   "source": []
  },
  {
   "cell_type": "code",
   "execution_count": null,
   "id": "a4999ce6",
   "metadata": {},
   "outputs": [],
   "source": []
  },
  {
   "cell_type": "code",
   "execution_count": null,
   "id": "5d8bd488",
   "metadata": {},
   "outputs": [],
   "source": []
  }
 ],
 "metadata": {
  "kernelspec": {
   "display_name": "Python 3 (ipykernel)",
   "language": "python",
   "name": "python3"
  },
  "language_info": {
   "codemirror_mode": {
    "name": "ipython",
    "version": 3
   },
   "file_extension": ".py",
   "mimetype": "text/x-python",
   "name": "python",
   "nbconvert_exporter": "python",
   "pygments_lexer": "ipython3",
   "version": "3.7.16"
  }
 },
 "nbformat": 4,
 "nbformat_minor": 5
}
